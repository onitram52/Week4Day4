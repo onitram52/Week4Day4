{
 "cells": [
  {
   "cell_type": "code",
   "execution_count": null,
   "id": "ebceb1d8",
   "metadata": {},
   "outputs": [],
   "source": [
    "# Create a linked list to track the months in a year. \n",
    "\n",
    "# Create methods to add to the front of the list, add to the back of the list, \n",
    "# insert after another value, and traverse to see the available values."
   ]
  },
  {
   "cell_type": "code",
   "execution_count": 36,
   "id": "128c4bb3",
   "metadata": {},
   "outputs": [],
   "source": [
    "class Node:\n",
    "    def __init__(self, data):\n",
    "        self.data = data\n",
    "        self.next = None\n",
    "\n",
    "class LinkedList:\n",
    "    def __init__(self):\n",
    "        self.head = None\n",
    "\n",
    "    def add_to_front(self, data):\n",
    "        new_node = Node(data)\n",
    "        new_node.next = self.head\n",
    "        self.head = new_node\n",
    "\n",
    "    def add_to_back(self, data):\n",
    "        new_node = Node(data)\n",
    "        if self.head is None:\n",
    "            self.head = new_node\n",
    "            return\n",
    "        current = self.head\n",
    "        while current.next:\n",
    "            current = current.next\n",
    "        current.next = new_node\n",
    "\n",
    "    def insert_after(self, prev_node, data):\n",
    "        if prev_node is None:\n",
    "            print(\"given node cannot be empty\")\n",
    "            return\n",
    "        new_node = Node(data)\n",
    "        new_node.next = prev_node.next\n",
    "        prev_node.next = new_node\n",
    "\n",
    "    def traverse(self):\n",
    "        current = self.head\n",
    "        count = 0\n",
    "        while current:\n",
    "            count += 1\n",
    "            print(current.data)\n",
    "            current = current.next\n",
    "        if count != 12:\n",
    "            print(f\"Warning! Warning! There should be more than {count} months in a year! (you need {12 - count} more bud)\")"
   ]
  },
  {
   "cell_type": "code",
   "execution_count": 37,
   "id": "e71f9047",
   "metadata": {},
   "outputs": [
    {
     "name": "stdout",
     "output_type": "stream",
     "text": [
      "January\n",
      "February\n",
      "March\n",
      "April\n",
      "May\n",
      "Warning! Warning! There should be more than 5 months in a year! (you need 7 more bud)\n"
     ]
    }
   ],
   "source": [
    "months = LinkedList()\n",
    "months.add_to_front(\"January\")\n",
    "months.add_to_back(\"February\")\n",
    "months.add_to_back(\"March\")\n",
    "months.insert_after(months.head.next.next, \"April\")\n",
    "months.insert_after(months.head.next.next.next, \"May\")\n",
    "months.traverse()"
   ]
  },
  {
   "cell_type": "code",
   "execution_count": 33,
   "id": "77c43634",
   "metadata": {},
   "outputs": [
    {
     "name": "stdout",
     "output_type": "stream",
     "text": [
      "[3, 5]\n",
      "None\n"
     ]
    }
   ],
   "source": [
    "# Sum of Pairs\n",
    "# Given a list of integers and a single sum value, return the first two values (parse from the left please) \n",
    "# in order of appearance that add up to form the sum.\n",
    "\n",
    "# If there are two or more pairs with the required sum, the pair whose\n",
    "# second element has the smallest index is the solution.\n",
    "\n",
    "def sum_pairs(nums, s):\n",
    "    '''\n",
    "    function takes in two arguments, a list on integers (nums) and a single sum value (s)\n",
    "    empty dictionary \"pairs\" is defined to keep track of the values in the list and their indices.\n",
    "    the fucntion uses a for loop to iterate thru the list of integers with the enumerate function.\n",
    "    the enumerate function returns both the index and the value of each element in the list so wecan track the \n",
    "    position of each value in the list\n",
    "    \n",
    "    the for loop checks if the difference between the sum and the current value \"num\" is already in the dictionary.\n",
    "    if it is, that menas we found a pair of values that add up tot he target sum and the function returns the pair \n",
    "    in order of appearance in the list\n",
    "    \n",
    "    if he difference is not in the dictionary we havent seen the value yet and it will get added to the dictionary along\n",
    "    with its index. If no such pair is found the function returns \"None\"\n",
    "    \n",
    "    the func has a time complexity of O(n) because we are iterating thru the list only once\n",
    "    '''\n",
    "    pairs = {}\n",
    "    for i, num in enumerate(nums):\n",
    "        if s - num in pairs:\n",
    "            return [s - num, num]\n",
    "        pairs[num] = i\n",
    "    return None\n",
    "\n",
    "print(sum_pairs([1, 3, 10, 5, -2, 33, 7, 12], 8))\n",
    "print(sum_pairs([1, 3, 10, 4, -3, 33, 6, 12], 8))"
   ]
  }
 ],
 "metadata": {
  "kernelspec": {
   "display_name": "Python 3 (ipykernel)",
   "language": "python",
   "name": "python3"
  },
  "language_info": {
   "codemirror_mode": {
    "name": "ipython",
    "version": 3
   },
   "file_extension": ".py",
   "mimetype": "text/x-python",
   "name": "python",
   "nbconvert_exporter": "python",
   "pygments_lexer": "ipython3",
   "version": "3.9.13"
  }
 },
 "nbformat": 4,
 "nbformat_minor": 5
}
